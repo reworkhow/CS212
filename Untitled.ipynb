{
 "cells": [
  {
   "cell_type": "code",
   "execution_count": null,
   "metadata": {
    "collapsed": true
   },
   "outputs": [],
   "source": [
    "def search(pattern,text):\n",
    "    \"Return True if the pattern appears anywhere in text\"\n",
    "    if pattern.startwith('^'):\n",
    "        return match(pattern[1:],text)\n",
    "    else:\n",
    "        return match('.*'+pattern,text)"
   ]
  },
  {
   "cell_type": "code",
   "execution_count": 1,
   "metadata": {
    "collapsed": true
   },
   "outputs": [],
   "source": [
    "def match(pattern, text):\n",
    "    \"\"\"\n",
    "    Return True if pattern appears at the start of text\n",
    "    \n",
    "    For this quiz, please fill in the return values for:\n",
    "        1) if pattern == '':\n",
    "       \t2) elif pattern == '$':\n",
    "\t\"\"\"\n",
    "\n",
    "    if pattern == '': #empty\n",
    "        return True\n",
    "    elif pattern == '$': #end\n",
    "        return (text ==' ')\n",
    "    elif len(pattern) > 1 and pattern[1] in '*?':\n",
    "        p, op, pat = pattern[0], pattern[1], pattern[2:]\n",
    "        if op == '*':\n",
    "            return match_star(p, pat, text)\n",
    "        elif op == '?':\n",
    "            if match1(p, text) and match(pat, text[1:]):\n",
    "                return True\n",
    "            else:\n",
    "                return match(pat, text)\n",
    "    else:\n",
    "        return (match1(pattern[0], text) and\n",
    "                match(pattern[1:],text[1:])) # fill in this line"
   ]
  },
  {
   "cell_type": "code",
   "execution_count": 3,
   "metadata": {
    "collapsed": false
   },
   "outputs": [],
   "source": [
    "def match1(p,text):\n",
    "    \"return true if first character of text matches patten character p.\"\n",
    "    if not text:return False\n",
    "    return p == '.' or p==text[0]"
   ]
  },
  {
   "cell_type": "code",
   "execution_count": 7,
   "metadata": {
    "collapsed": false
   },
   "outputs": [],
   "source": [
    "def match_star(p,pattern,text):\n",
    "    \"Return true if any number of char p, followed by pattern, matches text\"\n",
    "    return (match(pattern,text) or #mathc 0 p\n",
    "            (match1(p,text) and #match >1 p\n",
    "             match_star(p,pattern,text[1:]))) #recursive call"
   ]
  },
  {
   "cell_type": "markdown",
   "metadata": {},
   "source": [
    "The part above is not in the coures note (I guess it was added later)\n",
    "#### Instructor Notes\n",
    "##### https://tinyurl.com/pike-regexp"
   ]
  },
  {
   "cell_type": "markdown",
   "metadata": {},
   "source": [
    "### NEXT"
   ]
  },
  {
   "cell_type": "code",
   "execution_count": null,
   "metadata": {
    "collapsed": true
   },
   "outputs": [],
   "source": []
  }
 ],
 "metadata": {
  "kernelspec": {
   "display_name": "Python 2",
   "language": "python",
   "name": "python2"
  },
  "language_info": {
   "codemirror_mode": {
    "name": "ipython",
    "version": 2
   },
   "file_extension": ".py",
   "mimetype": "text/x-python",
   "name": "python",
   "nbconvert_exporter": "python",
   "pygments_lexer": "ipython2",
   "version": "2.7.10"
  }
 },
 "nbformat": 4,
 "nbformat_minor": 0
}
