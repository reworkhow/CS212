{
 "cells": [
  {
   "cell_type": "markdown",
   "metadata": {},
   "source": [
    "#### warmup:"
   ]
  },
  {
   "cell_type": "markdown",
   "metadata": {},
   "source": [
    "sequential style:"
   ]
  },
  {
   "cell_type": "code",
   "execution_count": 4,
   "metadata": {
    "collapsed": false
   },
   "outputs": [],
   "source": [
    "def ss(nums):\n",
    "    total=0\n",
    "    for i in range(len(nums)):\n",
    "        total=total+nums[i]**2\n",
    "    return total"
   ]
  },
  {
   "cell_type": "markdown",
   "metadata": {},
   "source": [
    "functional style (**P**):"
   ]
  },
  {
   "cell_type": "code",
   "execution_count": 9,
   "metadata": {
    "collapsed": true
   },
   "outputs": [],
   "source": [
    "def ss(nums):\n",
    "    return sum(x**2 for x in nums)"
   ]
  },
  {
   "cell_type": "markdown",
   "metadata": {},
   "source": [
    "### write a poker program"
   ]
  },
  {
   "cell_type": "markdown",
   "metadata": {},
   "source": [
    "**set**\n",
    "\n",
    "If you don't know what a set() is, don't worry! The set() function is used for identifying all the unique elements in an iterable object (like a list). For example:\n",
    "\n",
    ">myset = set(['one','two','three','two','one']) \n",
    "\n",
    ">myset set(['three', 'two', 'one'])\n",
    "\n",
    "There are two interesting things to note here: one, set() doesn't keep duplicate copies and two, set() is unordered"
   ]
  },
  {
   "cell_type": "markdown",
   "metadata": {},
   "source": [
    "**tuple**\n",
    "\n",
    "The second answer choice uses a data structure that you didn't see if you took CS 101. (11, 'S') is an example of a tuple. For now, you can think of a tuple as an immutable (unchangeable) list"
   ]
  },
  {
   "cell_type": "code",
   "execution_count": 13,
   "metadata": {
    "collapsed": false
   },
   "outputs": [
    {
     "name": "stdout",
     "output_type": "stream",
     "text": [
      " 5 -5\n"
     ]
    }
   ],
   "source": [
    "print max([3,4,5,0]),max([3,4,-5,0],key=abs)"
   ]
  },
  {
   "cell_type": "markdown",
   "metadata": {},
   "source": [
    "#### To be a good programmer, you need to be a good tester!"
   ]
  },
  {
   "cell_type": "code",
   "execution_count": null,
   "metadata": {
    "collapsed": false
   },
   "outputs": [],
   "source": [
    "##test function pokers()\n",
    "def test():\n",
    "    \"Test cases for the functions in poker program\"\n",
    "    sf = \"6C 7C 8C 9C TC\".split() # => ['6C', '7C', '8C', '9C', 'TC']\n",
    "    fk = \"9D 9H 9S 9C 7D\".split() \n",
    "    fh = \"TD TC TH 7C 7D\".split()\n",
    "    assert poker([sf, fk, fh]) == sf\n",
    "    \n",
    "    # Add 2 new assert statements here. The first \n",
    "    # should check that when fk plays fh, fk \n",
    "    # is the winner. The second should confirm that\n",
    "    # fh playing against fh returns fh.\n",
    "    assert poker([fk, fh]) == fk\n",
    "    assert poker([fh, fh]) == fh\n",
    "    \n",
    "    # Add 2 new assert statements here. The first \n",
    "    # should assert that when poker is called with a\n",
    "    # single hand, it returns that hand. The second \n",
    "    # should check for the case of 100 hands.    \n",
    "    assert poker([sf]) == sf\n",
    "    assert poker([sf]+99*[fh]) == sf\n",
    "    \n",
    "    return \"tests pass\"  \n",
    "   \n",
    "print test()"
   ]
  },
  {
   "cell_type": "markdown",
   "metadata": {},
   "source": [
    "functions"
   ]
  },
  {
   "cell_type": "code",
   "execution_count": 72,
   "metadata": {
    "collapsed": true
   },
   "outputs": [],
   "source": [
    "import random \n",
    "import math\n",
    "import itertools\n",
    "from collections import defaultdict\n",
    "\n",
    "def poker(hands):\n",
    "    \"Return a list of winning hands: poker([hand,...]) => [hand,...]\"\n",
    "    return allmax(hands, key = hand_rank)\n",
    "\n",
    "def allmax(iterable, key=lambda x:x):\n",
    "    \"Return a list of all items equal to the max of the iterable.\"\n",
    "    maxi = max(iterable, key=key)\n",
    "    return [element for element in iterable if key(element) == key(maxi)]\n",
    "\n",
    "def hand_rank(hand):\n",
    "    \"Return a value indicating how high the hand ranks.\"\n",
    "    # counts is the count of each rank\n",
    "    # ranks lists corresponding ranks\n",
    "    # E.g. '7 T 7 9 7' => counts = (3, 1, 1); ranks = (7, 10, 9)\n",
    "    groups = group(['--23456789TJQKA'.index(r) for r, s in hand])\n",
    "    counts, ranks = unzip(groups)\n",
    "    if ranks == (14, 5, 4, 3, 2):\n",
    "        ranks = (5, 4, 3, 2, 1)\n",
    "    straight = len(ranks) == 5 and max(ranks)-min(ranks) == 4\n",
    "    flush = len(set([s for r, s in hand])) == 1\n",
    "    return (\n",
    "        9 if (5, ) == counts else\n",
    "        8 if straight and flush else\n",
    "        7 if (4, 1) == counts else\n",
    "        6 if (3, 2) == counts else\n",
    "        5 if flush else\n",
    "        4 if straight else\n",
    "        3 if (3, 1, 1) == counts else\n",
    "        2 if (2, 2, 1) == counts else\n",
    "        1 if (2, 1, 1, 1) == counts else\n",
    "        0), ranks\n",
    "\n",
    "def group(items):\n",
    "    \"Return a list of [(count, x)...], highest count first, the highest x first\"\n",
    "    groups = [(items.count(x), x) for x in set(items)]\n",
    "    return sorted(groups, reverse = True)\n",
    "\n",
    "def unzip(pairs):\n",
    "    return zip(*pairs)\n",
    "\n",
    "def card_ranks(hand):\n",
    "    \"Return a list of the ranks, sorted with higher first.\"\n",
    "    # ranks = ['--23456789TJQKA'.index(r) for r, s in hand]\n",
    "    # ranks = [{'A':14,\n",
    "    #           'K':13,\n",
    "    #           'Q':12,\n",
    "    #           'J':11,\n",
    "    #           'T':10,\n",
    "    #           }.get(r,r) for r, s in hand]\n",
    "    ranks = [14 if r == 'A' else\n",
    "             13 if r == 'K' else\n",
    "             12 if r == 'Q' else\n",
    "             11 if r == 'J' else\n",
    "             10 if r == 'T' else\n",
    "             int(r)\n",
    "             for r, s in hand]\n",
    "    ranks.sort(reverse = True)\n",
    "    return ranks if ranks != [14, 5, 4, 3, 2] else [5, 4, 3, 2, 1]\n",
    "\n",
    "def straight(ranks):\n",
    "    \"Return True if the ordered ranks form a 5-card straight.\"\n",
    "    return sum(ranks) - min(ranks)*5 == 10\n",
    "\n",
    "def flush(hand):\n",
    "    \"Return True if all the cards have the same suit.\"\n",
    "    suits = [s for r, s in hand]\n",
    "    return len(set(suits)) == 1\n",
    "\n",
    "def two_pair(ranks):\n",
    "    \"\"\"If there are two pair, return the two ranks as a\n",
    "    tuple: (highest, lowest); otherwise return None.\"\"\"\n",
    "    result = [r for r in set(ranks) if ranks.count(r) == 2]\n",
    "    if len(result) == 2:\n",
    "        return (max(result), min(result))\n",
    "\n",
    "def kind(n, ranks):\n",
    "    \"\"\"Return the first rank that this hand has exactly n of.\n",
    "    Return None if there is no n-of-a-kind in the hand.\"\"\"\n",
    "    for r in set(ranks):\n",
    "        if ranks.count(r) == n:\n",
    "            return r\n",
    "    return None\n",
    "\n",
    "deck = [r+s for r in '23456789TJQKA' for s in 'SHDC'] \n",
    "\n",
    "def deal(numhands, n = 5, deck = [r+s for r in '23456789TJQKA' for s in 'SHDC']):\n",
    "    \"Return a list of numhands hands consisting of n cards each\"\n",
    "    random.shuffle(deck)\n",
    "    deck = iter(deck)\n",
    "    return [[next(deck) for card in range(n)] for hand in range(numhands)]\n",
    "\n",
    "def test():\n",
    "    \"Test cases for the functions in poker program\"\n",
    "    sf = \"6C 7C 8C 9C TC\".split() # Straight Flush\n",
    "    fk = \"9D 9H 9S 9C 7D\".split() # Four of a Kind\n",
    "    fh = \"TD TC TH 7C 7D\".split() # Full House\n",
    "    s1 = \"AS 2S 3S 4S 5C\".split() # A-5 straight\n",
    "    s2 = \"2C 3C 4C 5S 6S\".split() # 2-6 straight\n",
    "    s3 = \"TC JC QC KS AS\".split() # 10-A straight    \n",
    "    tp = \"5S 5D 9H 9C 6S\".split() # two pair\n",
    "    ah = \"AS 2S 3S 4S 6C\".split() # A high\n",
    "    sh = \"2S 3S 4S 6C 7D\".split() # 7 high\n",
    "    assert poker([sf, fk, fh]) == [sf]\n",
    "    assert poker([fk, fh]) == [fk]\n",
    "    assert poker([fh, fh]) == [fh, fh]\n",
    "    assert poker([sf]) == [sf]\n",
    "    assert poker([sf] + 99*[fh]) == [sf]\n",
    "    assert poker([s1, s2]) == [s2]\n",
    "    assert poker([s1, tp]) == [s1]\n",
    "\n",
    "    # assert hand_rank(sf) == (8, 10)\n",
    "    # assert hand_rank(fk) == (7, 9, 7)\n",
    "    # assert hand_rank(fh) == (6, 10, 7)\n",
    "    # assert hand_rank(s1) == (4, 5)\n",
    "    # assert hand_rank(s3) == (4, 14)    \n",
    "\n",
    "    assert card_ranks(sf) == [10, 9, 8, 7, 6]\n",
    "    assert card_ranks(fk) == [9, 9, 9, 9, 7]\n",
    "    assert card_ranks(fh) == [10, 10, 10, 7, 7]\n",
    "    assert card_ranks(['AC', '3D', '4S', 'KH']) == [14, 13, 4, 3]\n",
    "\n",
    "    # Ace-high beats 7-high\n",
    "    assert (card_ranks(['AS', '2C', '3D', '4H', '6S']) >\n",
    "            card_ranks(['2D', '3S', '4C', '6H', '7D']))\n",
    "    # 5-straight loses to 6-straight\n",
    "    assert (card_ranks(['AS', '2C', '3D', '4H', '5S']) <\n",
    "            card_ranks(['2D', '3S', '4C', '5H', '6D']))\n",
    "\n",
    "    fkranks = card_ranks(fk)\n",
    "    tpranks = card_ranks(tp)\n",
    "\n",
    "    assert kind(4, fkranks) == 9\n",
    "    assert kind(3, fkranks) == None\n",
    "    assert kind(2, fkranks) == None\n",
    "    assert kind(1, fkranks) == 7\n",
    "\n",
    "    assert two_pair(tpranks) == (9, 5)\n",
    "    assert two_pair([10, 10, 5, 5, 2]) == (10, 5)    \n",
    "\n",
    "    assert straight([9, 8, 7, 6, 5]) == True\n",
    "    assert straight([9, 8, 8, 6, 5]) == False\n",
    "\n",
    "    assert flush(sf) == True\n",
    "    assert flush(fk) == False\n",
    "\n",
    "    return 'tests pass'\n",
    "\n",
    "hand_names = [\n",
    "    'High Card',\n",
    "    'Pair',\n",
    "    '2 Pair',\n",
    "    '3 Kind',\n",
    "    'Straight',\n",
    "    'Flush',\n",
    "    'Full House',\n",
    "    '4 Kind',\n",
    "    'Straight Flush',\n",
    "    ]\n",
    "def hand_percentages(n = 700*1000):\n",
    "    \"Sample n random hands and print a table of percentages for each type of hand\"\n",
    "    counts = [0]*9\n",
    "    for i in range(n/10):\n",
    "        for hand in deal(10):\n",
    "            ranking = hand_rank(hand)[0]\n",
    "            counts[ranking] += 1\n",
    "    for i in reversed(range(9)):\n",
    "        print('%14s: %6.3f'%(hand_names[i], 100.*counts[i]/n))\n",
    "\n",
    "def all_hand_percentages():\n",
    "    \"Print an exhaustive table of frequencies for each type of hand\"\n",
    "    counts = [0]*9\n",
    "    n = 0\n",
    "    deck = [r+s for r in '23456789TJQKA' for s in 'SHDC']\n",
    "    for hand in itertools.combinations(deck, 5):\n",
    "        n += 1\n",
    "        ranking = hand_rank(hand)[0]\n",
    "        counts[ranking] += 1\n",
    "    for i in reversed(range(9)):\n",
    "        print('%14s: %7d %6.3f'%(hand_names[i], counts[i], 100.*counts[i]/n))\n",
    "\n",
    "def shuffle1(deck):\n",
    "    # O(N**2)\n",
    "    # incorrect distribution\n",
    "    N = len(deck)\n",
    "    swapped = [False] * N\n",
    "    while not all(swapped):\n",
    "        i, j = random.randrange(N), random.randrange(N)\n",
    "        swapped[i] = swapped[j] = True\n",
    "        deck[i], deck[j] = deck[j], deck[i]\n",
    "\n",
    "def shuffle2(deck):\n",
    "    # O(N**2)\n",
    "    # incorrect distribution?    \n",
    "    N = len(deck)\n",
    "    swapped = [False] * N\n",
    "    while not all(swapped):\n",
    "        i, j = random.randrange(N), random.randrange(N)\n",
    "        swapped[i] = True\n",
    "        deck[i], deck[j] = deck[j], deck[i]\n",
    "\n",
    "def shuffle2a(deck):\n",
    "    # http://forums.udacity.com/cs212-april2012/questions/3462/better-implementation-of-shuffle2\n",
    "    N = len(deck)\n",
    "    swapped = [False] * N\n",
    "    while not all(swapped):\n",
    "        i = random.choice(filter(lambda idx: not swapped[idx], range(N)))\n",
    "        j = random.choice(filter(lambda idx: not swapped[idx], range(N)))\n",
    "        swapped[i] = True\n",
    "        deck[i], deck[j] = deck[j], deck[i]\n",
    "\n",
    "def shuffle3(deck):\n",
    "    # O(N)\n",
    "    # incorrect distribution    \n",
    "    N = len(deck)\n",
    "    for i in range(N):\n",
    "        j = random.randrange(N)\n",
    "        deck[i], deck[j] = deck[j], deck[i]\n",
    "\n",
    "def shuffle(deck):\n",
    "    # Knuth method\n",
    "    n = len(deck)\n",
    "    for i in range(n-1):\n",
    "        j = random.randrange(i, n)\n",
    "        deck[i], deck[j] = deck[j], deck[i]        \n",
    "\n",
    "def test_shuffler(shuffler, deck='abcd', n=10000):\n",
    "    counts = defaultdict(int)\n",
    "    for _ in range(n):\n",
    "        input = list(deck)\n",
    "        shuffler(input)\n",
    "        counts[''.join(input)] += 1\n",
    "    e = n*1./factorial(len(deck))  ## expected count\n",
    "    ok = all((0.9 <= counts[item]/e <= 1.1) for item in counts)\n",
    "    name = shuffler.__name__\n",
    "    print '%s(%s) %s' % (name, deck, ('ok' if ok else '*** bad ***'))\n",
    "    print '    ',\n",
    "    for item, count in sorted(counts.items()):\n",
    "        print \"%s:%4.1f\" % (item, count*100./n),\n",
    "    print\n",
    "\n",
    "def test_shufflers(shufflers=[shuffle, shuffle1], decks=['abc','ab']):\n",
    "    for deck in decks:\n",
    "        print\n",
    "        for f in shufflers:\n",
    "            test_shuffler(f, deck)\n",
    "\n",
    "def factorial(n): return 1 if (n <= 1) else n*factorial(n-1)\n"
   ]
  },
  {
   "cell_type": "code",
   "execution_count": 19,
   "metadata": {
    "collapsed": false
   },
   "outputs": [
    {
     "name": "stdout",
     "output_type": "stream",
     "text": [
      "True False\n"
     ]
    }
   ],
   "source": [
    "print (7,3)>(7,1) , 'hello'>'hl'"
   ]
  },
  {
   "cell_type": "code",
   "execution_count": 26,
   "metadata": {
    "collapsed": false
   },
   "outputs": [],
   "source": [
    "s1=\"2c 3d\".split()"
   ]
  }
 ],
 "metadata": {
  "kernelspec": {
   "display_name": "Python 2",
   "language": "python",
   "name": "python2"
  },
  "language_info": {
   "codemirror_mode": {
    "name": "ipython",
    "version": 2
   },
   "file_extension": ".py",
   "mimetype": "text/x-python",
   "name": "python",
   "nbconvert_exporter": "python",
   "pygments_lexer": "ipython2",
   "version": "2.7.10"
  }
 },
 "nbformat": 4,
 "nbformat_minor": 0
}
